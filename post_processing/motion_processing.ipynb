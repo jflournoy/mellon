{
 "cells": [
  {
   "cell_type": "code",
   "execution_count": 1,
   "metadata": {},
   "outputs": [],
   "source": [
    "import pandas as pd\n",
    "import os, fnmatch\n",
    "import numpy as np\n",
    "\n",
    "def locate(pattern, root=os.curdir):\n",
    "    '''Locate all files matching supplied filename pattern in and below\n",
    "    supplied root directory.'''\n",
    "    for path, dirs, files in os.walk(os.path.abspath(root)):\n",
    "        for filename in fnmatch.filter(files, pattern):\n",
    "            return os.path.join(path, filename)\n",
    "            #yield os.path.join(path, filename)"
   ]
  },
  {
   "cell_type": "code",
   "execution_count": 2,
   "metadata": {},
   "outputs": [],
   "source": [
    "root = '/net/holynfs01/srv/export/mclaughlin/share_root/stressdevlab/GenR_derivatives/fmriprep/'"
   ]
  },
  {
   "cell_type": "code",
   "execution_count": 3,
   "metadata": {},
   "outputs": [],
   "source": [
    "found_confounds = locate('sub-*confounds_regressors.tsv', root)\n",
    "found_rsbold = locate('sub-*MNI152NLin2009cAsym_desc-preproc_bold.nii.gz', root)"
   ]
  },
  {
   "cell_type": "code",
   "execution_count": 10,
   "metadata": {},
   "outputs": [
    {
     "data": {
      "text/plain": [
       "str"
      ]
     },
     "execution_count": 10,
     "metadata": {},
     "output_type": "execute_result"
    }
   ],
   "source": [
    "type(found_confounds)"
   ]
  },
  {
   "cell_type": "code",
   "execution_count": 5,
   "metadata": {},
   "outputs": [
    {
     "data": {
      "text/plain": [
       "'/net/holynfs01/srv/export/mclaughlin/share_root/stressdevlab/GenR_derivatives/fmriprep/sub-1001/ses-1/func/sub-1001_ses-1_task-rest_space-MNI152NLin2009cAsym_desc-preproc_bold.nii.gz'"
      ]
     },
     "execution_count": 5,
     "metadata": {},
     "output_type": "execute_result"
    }
   ],
   "source": [
    "found_rsbold"
   ]
  },
  {
   "cell_type": "code",
   "execution_count": 16,
   "metadata": {},
   "outputs": [],
   "source": [
    "confounds_filename = found_confounds\n",
    "#18 regressors are these 9, and their derivatives.\n",
    "motion_reg_colnames = ['csf', 'white_matter', 'global_signal', 'trans_x', 'trans_y', 'trans_z', 'rot_x' , 'rot_y', 'rot_z']\n",
    "#To compute spike regressors\n",
    "spikereg_colnames = ['dvars', 'framewise_displacement']\n",
    "deriv = True\n",
    "quad = False"
   ]
  },
  {
   "cell_type": "code",
   "execution_count": 13,
   "metadata": {},
   "outputs": [
    {
     "data": {
      "text/plain": [
       "'/net/holynfs01/srv/export/mclaughlin/share_root/stressdevlab/GenR_derivatives/fmriprep/sub-1001/ses-1/func/sub-1001_ses-1_task-rest_desc-confounds_regressors.tsv'"
      ]
     },
     "execution_count": 13,
     "metadata": {},
     "output_type": "execute_result"
    }
   ],
   "source": [
    "confounds_filename"
   ]
  },
  {
   "cell_type": "code",
   "execution_count": 15,
   "metadata": {},
   "outputs": [
    {
     "data": {
      "text/plain": [
       "['csf',\n",
       " 'white_matter',\n",
       " 'global_signal',\n",
       " 'trans_x',\n",
       " 'trans_y',\n",
       " 'trans_z',\n",
       " 'rot_x',\n",
       " 'rot_y',\n",
       " 'rot_z',\n",
       " 'dvars',\n",
       " 'framewise_displacement']"
      ]
     },
     "execution_count": 15,
     "metadata": {},
     "output_type": "execute_result"
    }
   ],
   "source": [
    "motion_reg_colnames + spikereg_colnames"
   ]
  },
  {
   "cell_type": "code",
   "execution_count": 97,
   "metadata": {},
   "outputs": [],
   "source": [
    "use_derivs = True\n",
    "use_quads = False"
   ]
  },
  {
   "cell_type": "code",
   "execution_count": 27,
   "metadata": {},
   "outputs": [],
   "source": [
    "confounds = pd.read_csv(confounds_filename, sep = '\\t').reindex(columns = motion_reg_colnames + spikereg_colnames)"
   ]
  },
  {
   "cell_type": "code",
   "execution_count": 95,
   "metadata": {},
   "outputs": [],
   "source": [
    "confounds_motion_reg = confounds[motion_reg_colnames]\n",
    "confounds_spikereg = confounds[spikereg_colnames]\n",
    "\n",
    "if use_derivs == True:\n",
    "    deriv = np.diff(confounds_motion_reg, n=1, axis=0)\n",
    "    deriv_df = pd.DataFrame(np.insert(arr=confounds_deriv, obj=0, values=0, axis=0), \n",
    "                            columns=[s + '_deriv' for s in confounds_motion_reg.columns])\n",
    "    confounds_motion_all = pd.concat([confounds_motion_reg, deriv_df], axis=1)\n",
    "else:\n",
    "    confounds_motion_all = confounds_motion_reg\n",
    "\n",
    "if use_quads == True:\n",
    "    quads_df = confounds_motion_all.apply(np.square)\n",
    "    quads_df.columns = [s + '_sq' for s in quads_df.columns]\n",
    "    confounds_motion_all = pd.concat([confounds_motion_all, quads_df], axis=1)"
   ]
  },
  {
   "cell_type": "code",
   "execution_count": 96,
   "metadata": {},
   "outputs": [
    {
     "data": {
      "text/plain": [
       "Index(['csf', 'white_matter', 'global_signal', 'trans_x', 'trans_y', 'trans_z',\n",
       "       'rot_x', 'rot_y', 'rot_z'],\n",
       "      dtype='object')"
      ]
     },
     "execution_count": 96,
     "metadata": {},
     "output_type": "execute_result"
    }
   ],
   "source": [
    "confounds_motion_all.columns"
   ]
  },
  {
   "cell_type": "code",
   "execution_count": null,
   "metadata": {},
   "outputs": [],
   "source": [
    "from nipype import Node, Workflow\n",
    "\n",
    "# it's important to\n",
    "# pass filenames to Nodes as absolute paths\n",
    "from os.path import abspath\n",
    "from nipype.interfaces import afni\n",
    "import nibabel as nib\n"
   ]
  },
  {
   "cell_type": "code",
   "execution_count": null,
   "metadata": {},
   "outputs": [],
   "source": [
    "in_file = abspath(found_rsbold)\n",
    "number_trs = nib.load(in_file).shape[3]"
   ]
  },
  {
   "cell_type": "code",
   "execution_count": null,
   "metadata": {},
   "outputs": [],
   "source": [
    "#set up the 3dDespike node, which will be connected to the 3dDeconvolve node\n",
    "despike = Node(afni.Despike(in_file = in_file), name = \"despike\")\n",
    "    "
   ]
  },
  {
   "cell_type": "code",
   "execution_count": null,
   "metadata": {},
   "outputs": [],
   "source": [
    "#for getting the results of 1dBport into a data frame\n",
    "import subprocess"
   ]
  },
  {
   "cell_type": "code",
   "execution_count": null,
   "metadata": {},
   "outputs": [],
   "source": [
    "#create bandpass regressors\n",
    "result = subprocess.run(['1dBport', '-nodata', str(number_trs), '2', '-band', '0.01', '.08', '-invert', '-nozero'], stdout=subprocess.PIPE)"
   ]
  },
  {
   "cell_type": "code",
   "execution_count": null,
   "metadata": {},
   "outputs": [],
   "source": [
    "from io import StringIO\n",
    "\n",
    "b = StringIO(result.stdout.decode('utf-8'))\n",
    "\n",
    "df = pd.read_csv(b, sep='\\s+', header=None)"
   ]
  },
  {
   "cell_type": "code",
   "execution_count": null,
   "metadata": {},
   "outputs": [],
   "source": [
    "#Compute some more columns for the confounds df\n",
    "from scipy.stats import iqr\n",
    "from numpy import percentile\n",
    "#from https://fsl.fmrib.ox.ac.uk/fsl/fslwiki/FSLMotionOutliers:\n",
    "#--thresh=<val>       specify absolute threshold value (otherwise use box-plot cutoff = P75 + 1.5*IQR)\n",
    "outlier_boundry = percentile(confounds_all.loc[1:, 'dvars'], q = [75]) + 1.5*iqr(confounds_all.loc[1:, 'dvars'])\n"
   ]
  },
  {
   "cell_type": "code",
   "execution_count": null,
   "metadata": {},
   "outputs": [],
   "source": []
  }
 ],
 "metadata": {
  "kernelspec": {
   "display_name": "Python [conda env:my_root]",
   "language": "python",
   "name": "conda-env-my_root-py"
  },
  "language_info": {
   "codemirror_mode": {
    "name": "ipython",
    "version": 3
   },
   "file_extension": ".py",
   "mimetype": "text/x-python",
   "name": "python",
   "nbconvert_exporter": "python",
   "pygments_lexer": "ipython3",
   "version": "3.6.3"
  }
 },
 "nbformat": 4,
 "nbformat_minor": 2
}
