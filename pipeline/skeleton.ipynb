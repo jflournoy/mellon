{
 "cells": [
  {
   "cell_type": "code",
   "execution_count": null,
   "metadata": {},
   "outputs": [],
   "source": [
    "def top_features(X, y, prop=.2):\n",
    "    \n",
    "def compute_canonical_variates(rs_features, behavioral_features):\n",
    "    rs_features_to_use = top_features()\n",
    "    \n",
    "from numpy.random import multivariate_normal\n",
    "mean = [0] * 5\n",
    "cov = [[1 [0]* ]]\n",
    "mvnorm_dat = multivariate_normal()\n",
    "import rpy2.robjects as robjects\n",
    "from rpy2.robjects.packages import importr\n",
    "# import R's \"base\" package\n",
    "base = importr('base')\n",
    "\n",
    "# import R's \"utils\" package\n",
    "utils = importr('utils')\n",
    "\n",
    "#import PMA\n",
    "pma = importr('PMA')"
   ]
  }
 ],
 "metadata": {
  "kernelspec": {
   "display_name": "Python [conda env:my_root]",
   "language": "python",
   "name": "conda-env-my_root-py"
  },
  "language_info": {
   "codemirror_mode": {
    "name": "ipython",
    "version": 3
   },
   "file_extension": ".py",
   "mimetype": "text/x-python",
   "name": "python",
   "nbconvert_exporter": "python",
   "pygments_lexer": "ipython3",
   "version": "3.6.3"
  }
 },
 "nbformat": 4,
 "nbformat_minor": 2
}
