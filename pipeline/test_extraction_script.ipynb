{
 "cells": [
  {
   "cell_type": "markdown",
   "metadata": {},
   "source": [
    "# Make a function to extract and write csv with rois and labels"
   ]
  },
  {
   "cell_type": "code",
   "execution_count": 7,
   "metadata": {},
   "outputs": [],
   "source": [
    "import os\n",
    "import nibabel as nib\n",
    "import numpy as np\n",
    "import matplotlib as plt\n",
    "import pandas as pd\n",
    "from nilearn.input_data import NiftiLabelsMasker\n",
    "from nilearn import datasets\n",
    "from nilearn.connectome import ConnectivityMeasure\n",
    "from nilearn import plotting\n",
    "from joblib import Parallel, delayed\n",
    "import multiprocessing\n",
    "%matplotlib inline\n",
    "\n",
    "parcellation='power-drysdale'\n",
    "input_file_list_fname = \"../post_processing/rs_files_and_exclusions.csv\"\n",
    "parcel_labels_fname='../power_spheres/power_drysdale_labels.csv'\n",
    "label_image_fname='../power_spheres/power_drysdale_spheres.nii'\n",
    "\n",
    "#get our labels -- these are just network labels\n",
    "input_file_list = pd.read_csv(input_file_list_fname)\n",
    "label_df = pd.read_csv(parcel_labels_fname)\n",
    "labels = list(label_df['label'].values)\n",
    "\n",
    "if 'exclude' in input_file_list.columns:\n",
    "    exclude = input_file_list.exclude.values\n",
    "else:\n",
    "    exclude = [0]*input_file_list.file.shape[0]\n",
    "\n",
    "masker_obj = NiftiLabelsMasker(labels_img=label_image_fname, standardize=True,\n",
    "                            memory='nilearn_cache', verbose=5)\n",
    "connectivity_obj = ConnectivityMeasure(kind='correlation')\n",
    "     \n",
    "def time_course_extractor(masker_obj, connectivity_obj):\n",
    "    def extract(fname):\n",
    "        if os.path.isfile(rsfilename):\n",
    "            anImg = nib.load(fname)\n",
    "            time_series = masker_obj.fit_transform(anImg)\n",
    "        else:\n",
    "            time_series = []            \n",
    "        return time_series\n",
    "    return extract\n",
    "\n",
    "pd_extractor = time_course_extractor(masker_obj, connectivity_obj)    "
   ]
  },
  {
   "cell_type": "code",
   "execution_count": 9,
   "metadata": {},
   "outputs": [
    {
     "data": {
      "text/plain": [
       "3420"
      ]
     },
     "execution_count": 9,
     "metadata": {},
     "output_type": "execute_result"
    }
   ],
   "source": []
  },
  {
   "cell_type": "code",
   "execution_count": null,
   "metadata": {},
   "outputs": [],
   "source": [
    "num_cores = 4\n",
    "rs_fnames_include = rs_fname_list[rs_fname_list.exclude == 0].iloc[0:9,]\n",
    "import time\n",
    "\n",
    "t0 = time.time()\n",
    "results = Parallel(n_jobs=num_cores)(delayed(extractor_func)(f) for f in rs_fnames_include.file.values)\n",
    "t1 = time.time()\n",
    "\n",
    "total = t1-t0"
   ]
  },
  {
   "cell_type": "code",
   "execution_count": null,
   "metadata": {},
   "outputs": [],
   "source": [
    "cormats = correlation_measure.fit_transform(results)"
   ]
  },
  {
   "cell_type": "code",
   "execution_count": null,
   "metadata": {},
   "outputs": [],
   "source": [
    "total/10*3420/60/60"
   ]
  },
  {
   "cell_type": "code",
   "execution_count": null,
   "metadata": {},
   "outputs": [],
   "source": []
  }
 ],
 "metadata": {
  "kernelspec": {
   "display_name": "Python 3",
   "language": "python",
   "name": "python3"
  },
  "language_info": {
   "codemirror_mode": {
    "name": "ipython",
    "version": 3
   },
   "file_extension": ".py",
   "mimetype": "text/x-python",
   "name": "python",
   "nbconvert_exporter": "python",
   "pygments_lexer": "ipython3",
   "version": "3.7.3"
  }
 },
 "nbformat": 4,
 "nbformat_minor": 2
}
